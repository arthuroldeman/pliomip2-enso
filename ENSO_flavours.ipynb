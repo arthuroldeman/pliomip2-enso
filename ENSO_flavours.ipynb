{
 "cells": [
  {
   "cell_type": "code",
   "execution_count": 2,
   "metadata": {},
   "outputs": [
    {
     "name": "stdout",
     "output_type": "stream",
     "text": [
      "The autoreload extension is already loaded. To reload it, use:\n",
      "  %reload_ext autoreload\n"
     ]
    }
   ],
   "source": [
    "## imports\n",
    "\n",
    "import sys\n",
    "import os\n",
    "import numpy as np\n",
    "import xarray as xr\n",
    "import cmocean\n",
    "import matplotlib\n",
    "import matplotlib.pyplot as plt\n",
    "from matplotlib import gridspec\n",
    "import cartopy\n",
    "import cartopy.crs as ccrs\n",
    "from cartopy.mpl.gridliner import LONGITUDE_FORMATTER, LATITUDE_FORMATTER\n",
    "import eofs\n",
    "from eofs.xarray import Eof\n",
    "import cftime\n",
    "# import nc_time_axis\n",
    "\n",
    "from scipy.stats import kurtosis\n",
    "from scipy.stats import skew\n",
    "from scipy.stats import linregress\n",
    "\n",
    "import mtspec\n",
    "\n",
    "import datetime\n",
    "import time\n",
    "import glob, os\n",
    "import math\n",
    "import matplotlib.colors as colors\n",
    "\n",
    "import warnings\n",
    "warnings.filterwarnings('ignore','SerializationWarning')\n",
    "\n",
    "from defs import trim_axs, Nino34_timeseries, Nino_timeseries\n",
    "\n",
    "%load_ext autoreload\n",
    "%autoreload 2"
   ]
  },
  {
   "cell_type": "code",
   "execution_count": 30,
   "metadata": {},
   "outputs": [],
   "source": [
    "## Figure settings\n",
    "\n",
    "import matplotlib.pylab as pylab\n",
    "\n",
    "figwidth1 = 8.3;\n",
    "figwidth2 = 12;\n",
    "\n",
    "r = figwidth2/figwidth1;\n",
    "\n",
    "params1 = {'legend.fontsize':15,\n",
    "         'axes.labelsize':16.5,\n",
    "         'axes.titlesize':14.5,\n",
    "         'xtick.labelsize':14.5,\n",
    "         'ytick.labelsize':14.5}\n",
    "\n",
    "params2 = {'legend.fontsize':14.5,\n",
    "         'axes.labelsize':15.5,\n",
    "         'axes.titlesize':16.5,\n",
    "         'xtick.labelsize':14.5,\n",
    "         'ytick.labelsize':14.5}\n",
    "\n",
    "cmap_temp = plt.get_cmap('cmo.thermal');\n",
    "cmap_div  = plt.get_cmap('cmo.balance');\n",
    "cmap_diff = plt.get_cmap('RdBu_r');\n",
    "\n",
    "# pylab.rcParams.update(params)"
   ]
  },
  {
   "cell_type": "markdown",
   "metadata": {},
   "source": [
    "## Load observations"
   ]
  },
  {
   "cell_type": "code",
   "execution_count": 4,
   "metadata": {},
   "outputs": [],
   "source": [
    "## HadISST data\n",
    "## https://www.metoffice.gov.uk/hadobs/hadisst/data/download.html\n",
    "## 1870 - 2020 SST data\n",
    "\n",
    "file = 'observations/HadISST/HadISST_sst.nc'\n",
    "ds   = xr.open_dataset(file)\n",
    "\n",
    "# select last 100 years\n",
    "ds = ds.sel(time=slice(\"1920\", \"2019\"))\n",
    "\n",
    "# -180 to 180 transform to 0 - 360\n",
    "ds.coords['longitude'] = (ds.coords['longitude'] - 360) % 360\n",
    "ds = ds.sortby(ds.longitude)\n",
    "ds = ds.sortby(ds.latitude)\n",
    "\n",
    "# slice equatorial pacific\n",
    "minlat = -5;  maxlat = 5;  \n",
    "minlon = 210; maxlon = 270; ## Nino3\n",
    "n3 = ds.sst.sel(latitude = slice(minlat, maxlat)).sel(longitude = slice(minlon, maxlon)).mean(dim='latitude').mean(dim='longitude')\n",
    "n3 = n3.groupby('time.month') - n3.groupby('time.month').mean(dim='time')\n",
    "\n",
    "## linear detrending (to remove 'climate change' trends)\n",
    "t = range(len(n3)); p = np.polyfit(t, n3, 1);\n",
    "l = t*p[0] + p[1]; n3 = n3 - l;\n",
    "\n",
    "minlon = 160; maxlon = 210; ## Nino4\n",
    "n4 = ds.sst.sel(latitude = slice(minlat, maxlat)).sel(longitude = slice(minlon, maxlon)).mean(dim='latitude').mean(dim='longitude')\n",
    "n4 = n4.groupby('time.month') - n4.groupby('time.month').mean(dim='time')\n",
    "\n",
    "## linear detrending (to remove 'climate change' trends)\n",
    "p = np.polyfit(t, n4, 1);\n",
    "l = t*p[0] + p[1]; n4 = n4 - l;\n",
    "\n",
    "## Nct Nwp\n",
    "alpha = (2/5) * ((n3*n4)>0);\n",
    "nCT_hadisst = n3 - alpha * n4; \n",
    "nWP_hadisst = n4 - alpha * n3;\n"
   ]
  },
  {
   "cell_type": "markdown",
   "metadata": {},
   "source": [
    "## Load model list"
   ]
  },
  {
   "cell_type": "code",
   "execution_count": 5,
   "metadata": {},
   "outputs": [],
   "source": [
    "modellist = ['CCSM4', 'CCSM4-UoT', 'CCSM4-Utr', 'CESM1.2', 'CESM2', 'COSMOS', 'EC-Earth3.3',\n",
    "             'GISS2.1G', 'HadCM3', 'HadGEM3', 'IPSLCM5A', 'IPSLCM5A2', 'IPSLCM6A', 'MIROC4m', \n",
    "             'MRI2.3', 'NorESM-L', 'NorESM1-F']\n"
   ]
  },
  {
   "cell_type": "markdown",
   "metadata": {},
   "source": [
    "## Nino3 & Nino4 indices - CT / WP Nino flavours"
   ]
  },
  {
   "cell_type": "markdown",
   "metadata": {},
   "source": [
    "Following the methods as proposed by Ren and Jin (2011): doi:10.1029/2010GL046031\n",
    "\n",
    "Cold tongue (CT) and Warm pool (WP) El Nino types:\\\n",
    "$N_{CT} = N_3 - \\alpha N_4$\\\n",
    "$N_{WP} = N_4 - \\alpha N_3$\n",
    "\n",
    "where\\\n",
    "$\\alpha = 2/5$ if $N_3 N_4 > 0$\\\n",
    "$\\alpha = 0$ otherwise"
   ]
  },
  {
   "cell_type": "code",
   "execution_count": 6,
   "metadata": {},
   "outputs": [
    {
     "name": "stdout",
     "output_type": "stream",
     "text": [
      "model = CCSM4\n",
      "model = CCSM4-UoT\n",
      "model = CCSM4-Utr\n"
     ]
    },
    {
     "name": "stderr",
     "output_type": "stream",
     "text": [
      "/opt/anaconda3/envs/pliomip/lib/python3.8/site-packages/xarray/coding/times.py:427: SerializationWarning: Unable to decode time axis into full numpy.datetime64 objects, continuing using cftime.datetime objects instead, reason: dates out of range\n",
      "  dtype = _decode_cf_datetime_dtype(data, units, calendar, self.use_cftime)\n",
      "/opt/anaconda3/envs/pliomip/lib/python3.8/site-packages/numpy/core/_asarray.py:83: SerializationWarning: Unable to decode time axis into full numpy.datetime64 objects, continuing using cftime.datetime objects instead, reason: dates out of range\n",
      "  return array(a, dtype, copy=False, order=order)\n",
      "/opt/anaconda3/envs/pliomip/lib/python3.8/site-packages/xarray/coding/times.py:427: SerializationWarning: Unable to decode time axis into full numpy.datetime64 objects, continuing using cftime.datetime objects instead, reason: dates out of range\n",
      "  dtype = _decode_cf_datetime_dtype(data, units, calendar, self.use_cftime)\n",
      "/opt/anaconda3/envs/pliomip/lib/python3.8/site-packages/numpy/core/_asarray.py:83: SerializationWarning: Unable to decode time axis into full numpy.datetime64 objects, continuing using cftime.datetime objects instead, reason: dates out of range\n",
      "  return array(a, dtype, copy=False, order=order)\n"
     ]
    },
    {
     "name": "stdout",
     "output_type": "stream",
     "text": [
      "model = CESM1.2\n",
      "model = CESM2\n",
      "model = COSMOS\n"
     ]
    },
    {
     "name": "stderr",
     "output_type": "stream",
     "text": [
      "/opt/anaconda3/envs/pliomip/lib/python3.8/site-packages/xarray/coding/times.py:427: SerializationWarning: Unable to decode time axis into full numpy.datetime64 objects, continuing using cftime.datetime objects instead, reason: dates out of range\n",
      "  dtype = _decode_cf_datetime_dtype(data, units, calendar, self.use_cftime)\n",
      "/opt/anaconda3/envs/pliomip/lib/python3.8/site-packages/numpy/core/_asarray.py:83: SerializationWarning: Unable to decode time axis into full numpy.datetime64 objects, continuing using cftime.datetime objects instead, reason: dates out of range\n",
      "  return array(a, dtype, copy=False, order=order)\n",
      "/opt/anaconda3/envs/pliomip/lib/python3.8/site-packages/xarray/coding/times.py:427: SerializationWarning: Unable to decode time axis into full numpy.datetime64 objects, continuing using cftime.datetime objects instead, reason: dates out of range\n",
      "  dtype = _decode_cf_datetime_dtype(data, units, calendar, self.use_cftime)\n",
      "/opt/anaconda3/envs/pliomip/lib/python3.8/site-packages/numpy/core/_asarray.py:83: SerializationWarning: Unable to decode time axis into full numpy.datetime64 objects, continuing using cftime.datetime objects instead, reason: dates out of range\n",
      "  return array(a, dtype, copy=False, order=order)\n",
      "/opt/anaconda3/envs/pliomip/lib/python3.8/site-packages/xarray/coding/times.py:427: SerializationWarning: Unable to decode time axis into full numpy.datetime64 objects, continuing using cftime.datetime objects instead, reason: dates out of range\n",
      "  dtype = _decode_cf_datetime_dtype(data, units, calendar, self.use_cftime)\n",
      "/opt/anaconda3/envs/pliomip/lib/python3.8/site-packages/numpy/core/_asarray.py:83: SerializationWarning: Unable to decode time axis into full numpy.datetime64 objects, continuing using cftime.datetime objects instead, reason: dates out of range\n",
      "  return array(a, dtype, copy=False, order=order)\n",
      "/opt/anaconda3/envs/pliomip/lib/python3.8/site-packages/xarray/coding/times.py:427: SerializationWarning: Unable to decode time axis into full numpy.datetime64 objects, continuing using cftime.datetime objects instead, reason: dates out of range\n",
      "  dtype = _decode_cf_datetime_dtype(data, units, calendar, self.use_cftime)\n",
      "/opt/anaconda3/envs/pliomip/lib/python3.8/site-packages/numpy/core/_asarray.py:83: SerializationWarning: Unable to decode time axis into full numpy.datetime64 objects, continuing using cftime.datetime objects instead, reason: dates out of range\n",
      "  return array(a, dtype, copy=False, order=order)\n"
     ]
    },
    {
     "name": "stdout",
     "output_type": "stream",
     "text": [
      "model = EC-Earth3.3\n"
     ]
    },
    {
     "name": "stderr",
     "output_type": "stream",
     "text": [
      "/opt/anaconda3/envs/pliomip/lib/python3.8/site-packages/xarray/coding/times.py:427: SerializationWarning: Unable to decode time axis into full numpy.datetime64 objects, continuing using cftime.datetime objects instead, reason: dates out of range\n",
      "  dtype = _decode_cf_datetime_dtype(data, units, calendar, self.use_cftime)\n",
      "/opt/anaconda3/envs/pliomip/lib/python3.8/site-packages/numpy/core/_asarray.py:83: SerializationWarning: Unable to decode time axis into full numpy.datetime64 objects, continuing using cftime.datetime objects instead, reason: dates out of range\n",
      "  return array(a, dtype, copy=False, order=order)\n",
      "/opt/anaconda3/envs/pliomip/lib/python3.8/site-packages/xarray/coding/times.py:427: SerializationWarning: Unable to decode time axis into full numpy.datetime64 objects, continuing using cftime.datetime objects instead, reason: dates out of range\n",
      "  dtype = _decode_cf_datetime_dtype(data, units, calendar, self.use_cftime)\n",
      "/opt/anaconda3/envs/pliomip/lib/python3.8/site-packages/numpy/core/_asarray.py:83: SerializationWarning: Unable to decode time axis into full numpy.datetime64 objects, continuing using cftime.datetime objects instead, reason: dates out of range\n",
      "  return array(a, dtype, copy=False, order=order)\n",
      "/opt/anaconda3/envs/pliomip/lib/python3.8/site-packages/xarray/coding/times.py:427: SerializationWarning: Unable to decode time axis into full numpy.datetime64 objects, continuing using cftime.datetime objects instead, reason: dates out of range\n",
      "  dtype = _decode_cf_datetime_dtype(data, units, calendar, self.use_cftime)\n",
      "/opt/anaconda3/envs/pliomip/lib/python3.8/site-packages/numpy/core/_asarray.py:83: SerializationWarning: Unable to decode time axis into full numpy.datetime64 objects, continuing using cftime.datetime objects instead, reason: dates out of range\n",
      "  return array(a, dtype, copy=False, order=order)\n",
      "/opt/anaconda3/envs/pliomip/lib/python3.8/site-packages/xarray/coding/times.py:427: SerializationWarning: Unable to decode time axis into full numpy.datetime64 objects, continuing using cftime.datetime objects instead, reason: dates out of range\n",
      "  dtype = _decode_cf_datetime_dtype(data, units, calendar, self.use_cftime)\n",
      "/opt/anaconda3/envs/pliomip/lib/python3.8/site-packages/numpy/core/_asarray.py:83: SerializationWarning: Unable to decode time axis into full numpy.datetime64 objects, continuing using cftime.datetime objects instead, reason: dates out of range\n",
      "  return array(a, dtype, copy=False, order=order)\n"
     ]
    },
    {
     "name": "stdout",
     "output_type": "stream",
     "text": [
      "model = GISS2.1G\n",
      "model = HadCM3\n",
      "model = HadGEM3\n",
      "model = IPSLCM5A\n",
      "model = IPSLCM5A2\n",
      "model = IPSLCM6A\n"
     ]
    },
    {
     "name": "stderr",
     "output_type": "stream",
     "text": [
      "/opt/anaconda3/envs/pliomip/lib/python3.8/site-packages/xarray/coding/times.py:427: SerializationWarning: Unable to decode time axis into full numpy.datetime64 objects, continuing using cftime.datetime objects instead, reason: dates out of range\n",
      "  dtype = _decode_cf_datetime_dtype(data, units, calendar, self.use_cftime)\n",
      "/opt/anaconda3/envs/pliomip/lib/python3.8/site-packages/numpy/core/_asarray.py:83: SerializationWarning: Unable to decode time axis into full numpy.datetime64 objects, continuing using cftime.datetime objects instead, reason: dates out of range\n",
      "  return array(a, dtype, copy=False, order=order)\n",
      "/opt/anaconda3/envs/pliomip/lib/python3.8/site-packages/xarray/coding/times.py:427: SerializationWarning: Unable to decode time axis into full numpy.datetime64 objects, continuing using cftime.datetime objects instead, reason: dates out of range\n",
      "  dtype = _decode_cf_datetime_dtype(data, units, calendar, self.use_cftime)\n",
      "/opt/anaconda3/envs/pliomip/lib/python3.8/site-packages/numpy/core/_asarray.py:83: SerializationWarning: Unable to decode time axis into full numpy.datetime64 objects, continuing using cftime.datetime objects instead, reason: dates out of range\n",
      "  return array(a, dtype, copy=False, order=order)\n"
     ]
    },
    {
     "name": "stdout",
     "output_type": "stream",
     "text": [
      "model = MIROC4m\n",
      "model = MRI2.3\n",
      "model = NorESM-L\n",
      "model = NorESM1-F\n"
     ]
    }
   ],
   "source": [
    "trend_type = \"linear\" # linear detrending of Nino34 series\n",
    "\n",
    "for i in range(len(modellist)):\n",
    "    \n",
    "    print('model = ' + modellist[i])\n",
    "    \n",
    "    ds1 = Nino_timeseries(model = modellist[i], run='E280', mode = 'Nino3', trend = trend_type)\n",
    "    ds2 = Nino_timeseries(model = modellist[i], run='E280', mode = 'Nino4', trend = trend_type)\n",
    "    \n",
    "    if i==0: \n",
    "        nino3_e280   = np.zeros((len(ds1), len(modellist)))    \n",
    "        nino3_eoi400 = np.zeros((len(ds1), len(modellist)))         \n",
    "        nino4_e280   = np.zeros((len(ds2), len(modellist)))    \n",
    "        nino4_eoi400 = np.zeros((len(ds2), len(modellist))) \n",
    "        \n",
    "    nino3_e280[:,i]   = ds1\n",
    "    nino3_eoi400[:,i] = Nino_timeseries(model = modellist[i], run='EOI400', mode = 'Nino3', trend = trend_type)    \n",
    "    nino4_e280[:,i]   = ds2\n",
    "    nino4_eoi400[:,i] = Nino_timeseries(model = modellist[i], run='EOI400', mode = 'Nino4', trend = trend_type)\n",
    "    \n",
    "    "
   ]
  },
  {
   "cell_type": "code",
   "execution_count": 8,
   "metadata": {},
   "outputs": [],
   "source": [
    "## Calcualte N_coldtongue and N_warmpool and the standard deviation of these time series\n",
    "\n",
    "nCT_e280 = np.empty(nino3_e280.shape)\n",
    "nWP_e280 = np.empty(nino3_e280.shape)\n",
    "nCT_eoi400 = np.empty(nino3_e280.shape)\n",
    "nWP_eoi400 = np.empty(nino3_e280.shape)\n",
    "\n",
    "for i in range(len(modellist)):\n",
    "\n",
    "    n3 = nino3_e280[:,i]; \n",
    "    n4 = nino4_e280[:,i];\n",
    "    alpha = (2/5) * ((n3*n4)>0);\n",
    "    nCT_e280[:,i] = n3 - alpha * n4; \n",
    "    nWP_e280[:,i] = n4 - alpha * n3;\n",
    "\n",
    "    n3 = nino3_eoi400[:,i]; \n",
    "    n4 = nino4_eoi400[:,i];\n",
    "    alpha = (2/5) * ((n3*n4)>0);\n",
    "    nCT_eoi400[:,i] = n3 - alpha * n4; \n",
    "    nWP_eoi400[:,i] = n4 - alpha * n3;\n",
    "\n",
    "std_nCT_e280 = np.std(nCT_e280, axis = 0)\n",
    "std_nWP_e280 = np.std(nWP_e280, axis = 0)\n",
    "std_nCT_eoi400 = np.std(nCT_eoi400, axis = 0)\n",
    "std_nWP_eoi400 = np.std(nWP_eoi400, axis = 0)"
   ]
  },
  {
   "cell_type": "markdown",
   "metadata": {},
   "source": [
    "# **Figure 6**"
   ]
  },
  {
   "cell_type": "code",
   "execution_count": 31,
   "metadata": {},
   "outputs": [
    {
     "data": {
      "image/png": "[encoded data removed]",
      "text/plain": [
       "<Figure size 597.6x406.8 with 1 Axes>"
      ]
     },
     "metadata": {
      "needs_background": "light"
     },
     "output_type": "display_data"
    }
   ],
   "source": [
    "\n",
    "markers = ['D', 'D', 'D', 's', 's', '<', '>', '*', 'P', 'P', 'o', 'o', 'o', '^', 'v', 'X', 'X']\n",
    "msize   = [8,    8,   8,   8,   8,   9,   9,  13,  10,   10,   9,   9,   9,   9,   9,  10,  10]\n",
    "colors  = ['w', 'k', 'w', 'w', 'k', 'w', 'w', 'w', 'w', 'k', 'w', 'k', 'w', 'w', 'w', 'w', 'k']\n",
    "fillstyles = ['full', 'full', 'right', 'full', 'full', 'full', 'full', 'full', 'full', 'full', 'full', \n",
    "              'full', 'right', 'full', 'full', 'full', 'full']\n",
    "\n",
    "pylab.rcParams.update(params1)\n",
    "fig, ax = plt.subplots(ncols=1,nrows=1,figsize=(figwidth1, 5.65), constrained_layout = True)\n",
    "\n",
    "x = std_nWP_e280/std_nCT_e280; y = std_nWP_eoi400/std_nCT_eoi400;\n",
    "lims = [0.3, 1.45]\n",
    "\n",
    "for i in range(len(modellist)):\n",
    "    ax.plot(x[i], y[i], label = modellist[i], marker = markers[i], markersize = msize[i], color=colors[i], linestyle='None', \n",
    "    markeredgecolor ='k', fillstyle = fillstyles[i], markerfacecoloralt = 'k', markeredgewidth=1.3)\n",
    "    \n",
    "emcolor = 'maroon';\n",
    "ax.plot(np.mean(x), np.mean(y), color = emcolor, linestyle = 'None', marker ='+', markersize = 12, label = 'Ensemble mean', zorder=-1, alpha=0.6)    \n",
    "ax.plot([np.mean(x) - np.std(x), np.mean(x) + np.std(x)], [np.mean(y), np.mean(y)], \n",
    "        '-', color = emcolor, zorder=-1, linewidth=2, alpha=0.8)\n",
    "ax.plot([np.mean(x), np.mean(x)], [np.mean(y) - np.std(y), np.mean(y) + np.std(y)], \n",
    "        '-', color = emcolor, zorder=-1, linewidth=2, alpha=0.8)  \n",
    "\n",
    "ax.plot([np.std(nWP_hadisst)/np.std(nCT_hadisst), np.std(nWP_hadisst)/np.std(nCT_hadisst)], lims, color = 'indigo', linestyle='-.', linewidth=2, alpha=.6, zorder=-1, label = 'HadISST 1920-2020')\n",
    "\n",
    "# grid\n",
    "ax.grid(alpha=0.5);\n",
    "ax.plot(lims, lims,'k:', alpha=0.8, zorder = -1);\n",
    "ax.plot(lims, [1.0, 1.0], 'k-', alpha=0.6, zorder=-1, linewidth=1)\n",
    "ax.plot([1.0, 1.0], lims, 'k-', alpha=0.6, zorder=-1, linewidth=1)\n",
    "ax.set_xlim(lims); ax.set_ylim(lims)\n",
    "\n",
    "ax.legend(loc='upper center', bbox_to_anchor=(1.3, 1.05), shadow=True, ncol=1, fontsize=14)\n",
    "\n",
    "ax.set_xlabel('E280 $N_{WP}$ s.d. / $N_{CT}$ s.d. (-)'); \n",
    "ax.set_ylabel('Eoi400 $N_{WP}$ s.d. / $N_{CT}$ s.d. (-)');\n",
    "\n",
    "\n",
    "plt.savefig('figures/figure6.pdf', bbox_inches='tight')\n"
   ]
  }
 ],
 "metadata": {
  "kernelspec": {
   "display_name": "Python 3",
   "language": "python",
   "name": "python3"
  },
  "language_info": {
   "codemirror_mode": {
    "name": "ipython",
    "version": 3
   },
   "file_extension": ".py",
   "mimetype": "text/x-python",
   "name": "python",
   "nbconvert_exporter": "python",
   "pygments_lexer": "ipython3",
   "version": "3.8.6"
  }
 },
 "nbformat": 4,
 "nbformat_minor": 4
}
